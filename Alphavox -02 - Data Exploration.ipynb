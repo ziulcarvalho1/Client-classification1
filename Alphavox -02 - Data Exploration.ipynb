{
 "cells": [
  {
   "cell_type": "markdown",
   "metadata": {},
   "source": [
    "# Data Exploration"
   ]
  },
  {
   "cell_type": "code",
   "execution_count": 1,
   "metadata": {},
   "outputs": [],
   "source": [
    "import nltk\n",
    "import numpy as np\n",
    "import random\n",
    "import string\n",
    "\n",
    "import bs4 as bs\n",
    "import urllib.request\n",
    "import re\n",
    "\n",
    "import pandas, numpy\n",
    "import pandas as pd \n",
    "import numpy as np\n",
    "\n",
    "from nltk.corpus import webtext \n",
    "from nltk.collocations import BigramCollocationFinder \n",
    "from nltk.metrics import BigramAssocMeasures \n",
    "from random import random\n",
    "from collections           import defaultdict\n",
    "from gensim.models.phrases import Phrases, Phraser\n",
    "\n",
    "from pandas import read_csv\n",
    "from matplotlib import pyplot\n",
    "import matplotlib.pyplot as plt"
   ]
  },
  {
   "cell_type": "code",
   "execution_count": 3,
   "metadata": {},
   "outputs": [],
   "source": [
    "df1 = pd.read_csv('C:/AI/alphavox/Bradesco5/Training.csv', encoding='latin-1') "
   ]
  },
  {
   "cell_type": "code",
   "execution_count": 4,
   "metadata": {},
   "outputs": [
    {
     "data": {
      "text/html": [
       "<div>\n",
       "<style scoped>\n",
       "    .dataframe tbody tr th:only-of-type {\n",
       "        vertical-align: middle;\n",
       "    }\n",
       "\n",
       "    .dataframe tbody tr th {\n",
       "        vertical-align: top;\n",
       "    }\n",
       "\n",
       "    .dataframe thead th {\n",
       "        text-align: right;\n",
       "    }\n",
       "</style>\n",
       "<table border=\"1\" class=\"dataframe\">\n",
       "  <thead>\n",
       "    <tr style=\"text-align: right;\">\n",
       "      <th></th>\n",
       "      <th>Unnamed: 0</th>\n",
       "      <th>level_0</th>\n",
       "      <th>Unnamed: 0.1</th>\n",
       "      <th>index</th>\n",
       "      <th>ID</th>\n",
       "      <th>NOME</th>\n",
       "      <th>DATA_NASCIMENTO</th>\n",
       "      <th>SEXO</th>\n",
       "      <th>IDADE</th>\n",
       "      <th>RENDA (R$)</th>\n",
       "      <th>...</th>\n",
       "      <th>FONE10</th>\n",
       "      <th>STATUS_TELEFONE_10</th>\n",
       "      <th>idade</th>\n",
       "      <th>idade_range</th>\n",
       "      <th>classe</th>\n",
       "      <th>tipo_tel</th>\n",
       "      <th>classe1</th>\n",
       "      <th>idade_range_x</th>\n",
       "      <th>area</th>\n",
       "      <th>sexo1</th>\n",
       "    </tr>\n",
       "  </thead>\n",
       "  <tbody>\n",
       "    <tr>\n",
       "      <th>0</th>\n",
       "      <td>0</td>\n",
       "      <td>0</td>\n",
       "      <td>0</td>\n",
       "      <td>0</td>\n",
       "      <td>6.000000e+13</td>\n",
       "      <td>CARLOS LUCIANO DOS SANTOS</td>\n",
       "      <td>20/10/1982</td>\n",
       "      <td>M</td>\n",
       "      <td>37</td>\n",
       "      <td>880</td>\n",
       "      <td>...</td>\n",
       "      <td>NaN</td>\n",
       "      <td>NaN</td>\n",
       "      <td>39</td>\n",
       "      <td>FAIXA-05</td>\n",
       "      <td>E</td>\n",
       "      <td>1</td>\n",
       "      <td>1</td>\n",
       "      <td>5</td>\n",
       "      <td>75</td>\n",
       "      <td>0</td>\n",
       "    </tr>\n",
       "    <tr>\n",
       "      <th>1</th>\n",
       "      <td>1</td>\n",
       "      <td>1</td>\n",
       "      <td>1</td>\n",
       "      <td>1</td>\n",
       "      <td>6.000000e+13</td>\n",
       "      <td>FRANCISCA MARTINS ALVES</td>\n",
       "      <td>18/05/1950</td>\n",
       "      <td>F</td>\n",
       "      <td>70</td>\n",
       "      <td>950</td>\n",
       "      <td>...</td>\n",
       "      <td>NaN</td>\n",
       "      <td>NaN</td>\n",
       "      <td>71</td>\n",
       "      <td>FAIXA-12</td>\n",
       "      <td>E</td>\n",
       "      <td>1</td>\n",
       "      <td>1</td>\n",
       "      <td>12</td>\n",
       "      <td>64</td>\n",
       "      <td>1</td>\n",
       "    </tr>\n",
       "    <tr>\n",
       "      <th>2</th>\n",
       "      <td>2</td>\n",
       "      <td>2</td>\n",
       "      <td>2</td>\n",
       "      <td>2</td>\n",
       "      <td>6.000000e+13</td>\n",
       "      <td>RAIMUNDA FEIJAO VIANA</td>\n",
       "      <td>26/10/1948</td>\n",
       "      <td>F</td>\n",
       "      <td>71</td>\n",
       "      <td>880</td>\n",
       "      <td>...</td>\n",
       "      <td>NaN</td>\n",
       "      <td>NaN</td>\n",
       "      <td>73</td>\n",
       "      <td>FAIXA-12</td>\n",
       "      <td>E</td>\n",
       "      <td>0</td>\n",
       "      <td>1</td>\n",
       "      <td>12</td>\n",
       "      <td>93</td>\n",
       "      <td>1</td>\n",
       "    </tr>\n",
       "    <tr>\n",
       "      <th>3</th>\n",
       "      <td>3</td>\n",
       "      <td>3</td>\n",
       "      <td>3</td>\n",
       "      <td>3</td>\n",
       "      <td>6.000000e+13</td>\n",
       "      <td>LUCIANA SANTOS DE SOUSA</td>\n",
       "      <td>23/03/1973</td>\n",
       "      <td>F</td>\n",
       "      <td>47</td>\n",
       "      <td>1200</td>\n",
       "      <td>...</td>\n",
       "      <td>NaN</td>\n",
       "      <td>NaN</td>\n",
       "      <td>48</td>\n",
       "      <td>FAIXA-07</td>\n",
       "      <td>E</td>\n",
       "      <td>1</td>\n",
       "      <td>1</td>\n",
       "      <td>7</td>\n",
       "      <td>11</td>\n",
       "      <td>1</td>\n",
       "    </tr>\n",
       "    <tr>\n",
       "      <th>4</th>\n",
       "      <td>4</td>\n",
       "      <td>4</td>\n",
       "      <td>4</td>\n",
       "      <td>4</td>\n",
       "      <td>6.000000e+13</td>\n",
       "      <td>PAMELA KAREN FERNANDES DOS SANTOS</td>\n",
       "      <td>25/03/1988</td>\n",
       "      <td>F</td>\n",
       "      <td>32</td>\n",
       "      <td>1750</td>\n",
       "      <td>...</td>\n",
       "      <td>1.998331e+10</td>\n",
       "      <td>ATENDEU</td>\n",
       "      <td>33</td>\n",
       "      <td>FAIXA-04</td>\n",
       "      <td>E</td>\n",
       "      <td>1</td>\n",
       "      <td>1</td>\n",
       "      <td>4</td>\n",
       "      <td>19</td>\n",
       "      <td>1</td>\n",
       "    </tr>\n",
       "    <tr>\n",
       "      <th>...</th>\n",
       "      <td>...</td>\n",
       "      <td>...</td>\n",
       "      <td>...</td>\n",
       "      <td>...</td>\n",
       "      <td>...</td>\n",
       "      <td>...</td>\n",
       "      <td>...</td>\n",
       "      <td>...</td>\n",
       "      <td>...</td>\n",
       "      <td>...</td>\n",
       "      <td>...</td>\n",
       "      <td>...</td>\n",
       "      <td>...</td>\n",
       "      <td>...</td>\n",
       "      <td>...</td>\n",
       "      <td>...</td>\n",
       "      <td>...</td>\n",
       "      <td>...</td>\n",
       "      <td>...</td>\n",
       "      <td>...</td>\n",
       "      <td>...</td>\n",
       "    </tr>\n",
       "    <tr>\n",
       "      <th>107997</th>\n",
       "      <td>107997</td>\n",
       "      <td>107997</td>\n",
       "      <td>107997</td>\n",
       "      <td>107997</td>\n",
       "      <td>6.000000e+13</td>\n",
       "      <td>WALLISSON LIMA SOARES</td>\n",
       "      <td>02/11/1987</td>\n",
       "      <td>M</td>\n",
       "      <td>32</td>\n",
       "      <td>900</td>\n",
       "      <td>...</td>\n",
       "      <td>NaN</td>\n",
       "      <td>NaN</td>\n",
       "      <td>34</td>\n",
       "      <td>FAIXA-04</td>\n",
       "      <td>E</td>\n",
       "      <td>1</td>\n",
       "      <td>1</td>\n",
       "      <td>4</td>\n",
       "      <td>38</td>\n",
       "      <td>0</td>\n",
       "    </tr>\n",
       "    <tr>\n",
       "      <th>107998</th>\n",
       "      <td>107998</td>\n",
       "      <td>107998</td>\n",
       "      <td>107998</td>\n",
       "      <td>107998</td>\n",
       "      <td>6.000000e+13</td>\n",
       "      <td>NEI BRITO DOS SANTOS</td>\n",
       "      <td>22/03/1974</td>\n",
       "      <td>M</td>\n",
       "      <td>46</td>\n",
       "      <td>900</td>\n",
       "      <td>...</td>\n",
       "      <td>NaN</td>\n",
       "      <td>NaN</td>\n",
       "      <td>47</td>\n",
       "      <td>FAIXA-07</td>\n",
       "      <td>E</td>\n",
       "      <td>1</td>\n",
       "      <td>1</td>\n",
       "      <td>7</td>\n",
       "      <td>94</td>\n",
       "      <td>0</td>\n",
       "    </tr>\n",
       "    <tr>\n",
       "      <th>107999</th>\n",
       "      <td>107999</td>\n",
       "      <td>107999</td>\n",
       "      <td>107999</td>\n",
       "      <td>107999</td>\n",
       "      <td>6.000000e+13</td>\n",
       "      <td>TATIANE FERREIRA SANTOS</td>\n",
       "      <td>13/09/1985</td>\n",
       "      <td>F</td>\n",
       "      <td>34</td>\n",
       "      <td>880</td>\n",
       "      <td>...</td>\n",
       "      <td>NaN</td>\n",
       "      <td>NaN</td>\n",
       "      <td>36</td>\n",
       "      <td>FAIXA-05</td>\n",
       "      <td>E</td>\n",
       "      <td>0</td>\n",
       "      <td>1</td>\n",
       "      <td>5</td>\n",
       "      <td>98</td>\n",
       "      <td>1</td>\n",
       "    </tr>\n",
       "    <tr>\n",
       "      <th>108000</th>\n",
       "      <td>108000</td>\n",
       "      <td>108000</td>\n",
       "      <td>108000</td>\n",
       "      <td>108000</td>\n",
       "      <td>6.000000e+13</td>\n",
       "      <td>RAFAEL DA SILVA FERNANDES</td>\n",
       "      <td>11/01/1996</td>\n",
       "      <td>M</td>\n",
       "      <td>24</td>\n",
       "      <td>900</td>\n",
       "      <td>...</td>\n",
       "      <td>NaN</td>\n",
       "      <td>NaN</td>\n",
       "      <td>25</td>\n",
       "      <td>FAIXA-03</td>\n",
       "      <td>E</td>\n",
       "      <td>0</td>\n",
       "      <td>1</td>\n",
       "      <td>3</td>\n",
       "      <td>21</td>\n",
       "      <td>0</td>\n",
       "    </tr>\n",
       "    <tr>\n",
       "      <th>108001</th>\n",
       "      <td>108001</td>\n",
       "      <td>108001</td>\n",
       "      <td>108001</td>\n",
       "      <td>108001</td>\n",
       "      <td>6.000000e+13</td>\n",
       "      <td>FRANCISCO DIEGO RIBEIRO DOS SANTOS</td>\n",
       "      <td>07/01/1988</td>\n",
       "      <td>M</td>\n",
       "      <td>32</td>\n",
       "      <td>1250</td>\n",
       "      <td>...</td>\n",
       "      <td>NaN</td>\n",
       "      <td>NaN</td>\n",
       "      <td>33</td>\n",
       "      <td>FAIXA-04</td>\n",
       "      <td>E</td>\n",
       "      <td>1</td>\n",
       "      <td>1</td>\n",
       "      <td>4</td>\n",
       "      <td>86</td>\n",
       "      <td>0</td>\n",
       "    </tr>\n",
       "  </tbody>\n",
       "</table>\n",
       "<p>108002 rows × 51 columns</p>\n",
       "</div>"
      ],
      "text/plain": [
       "        Unnamed: 0  level_0  Unnamed: 0.1   index            ID  \\\n",
       "0                0        0             0       0  6.000000e+13   \n",
       "1                1        1             1       1  6.000000e+13   \n",
       "2                2        2             2       2  6.000000e+13   \n",
       "3                3        3             3       3  6.000000e+13   \n",
       "4                4        4             4       4  6.000000e+13   \n",
       "...            ...      ...           ...     ...           ...   \n",
       "107997      107997   107997        107997  107997  6.000000e+13   \n",
       "107998      107998   107998        107998  107998  6.000000e+13   \n",
       "107999      107999   107999        107999  107999  6.000000e+13   \n",
       "108000      108000   108000        108000  108000  6.000000e+13   \n",
       "108001      108001   108001        108001  108001  6.000000e+13   \n",
       "\n",
       "                                      NOME DATA_NASCIMENTO SEXO  IDADE  \\\n",
       "0                CARLOS LUCIANO DOS SANTOS      20/10/1982    M     37   \n",
       "1                  FRANCISCA MARTINS ALVES      18/05/1950    F     70   \n",
       "2                    RAIMUNDA FEIJAO VIANA      26/10/1948    F     71   \n",
       "3                  LUCIANA SANTOS DE SOUSA      23/03/1973    F     47   \n",
       "4        PAMELA KAREN FERNANDES DOS SANTOS      25/03/1988    F     32   \n",
       "...                                    ...             ...  ...    ...   \n",
       "107997               WALLISSON LIMA SOARES      02/11/1987    M     32   \n",
       "107998                NEI BRITO DOS SANTOS      22/03/1974    M     46   \n",
       "107999             TATIANE FERREIRA SANTOS      13/09/1985    F     34   \n",
       "108000           RAFAEL DA SILVA FERNANDES      11/01/1996    M     24   \n",
       "108001  FRANCISCO DIEGO RIBEIRO DOS SANTOS      07/01/1988    M     32   \n",
       "\n",
       "        RENDA (R$)  ...        FONE10  STATUS_TELEFONE_10 idade idade_range  \\\n",
       "0              880  ...           NaN                 NaN    39    FAIXA-05   \n",
       "1              950  ...           NaN                 NaN    71    FAIXA-12   \n",
       "2              880  ...           NaN                 NaN    73    FAIXA-12   \n",
       "3             1200  ...           NaN                 NaN    48    FAIXA-07   \n",
       "4             1750  ...  1.998331e+10             ATENDEU    33    FAIXA-04   \n",
       "...            ...  ...           ...                 ...   ...         ...   \n",
       "107997         900  ...           NaN                 NaN    34    FAIXA-04   \n",
       "107998         900  ...           NaN                 NaN    47    FAIXA-07   \n",
       "107999         880  ...           NaN                 NaN    36    FAIXA-05   \n",
       "108000         900  ...           NaN                 NaN    25    FAIXA-03   \n",
       "108001        1250  ...           NaN                 NaN    33    FAIXA-04   \n",
       "\n",
       "        classe  tipo_tel  classe1 idade_range_x area  sexo1  \n",
       "0            E         1        1             5   75      0  \n",
       "1            E         1        1            12   64      1  \n",
       "2            E         0        1            12   93      1  \n",
       "3            E         1        1             7   11      1  \n",
       "4            E         1        1             4   19      1  \n",
       "...        ...       ...      ...           ...  ...    ...  \n",
       "107997       E         1        1             4   38      0  \n",
       "107998       E         1        1             7   94      0  \n",
       "107999       E         0        1             5   98      1  \n",
       "108000       E         0        1             3   21      0  \n",
       "108001       E         1        1             4   86      0  \n",
       "\n",
       "[108002 rows x 51 columns]"
      ]
     },
     "execution_count": 4,
     "metadata": {},
     "output_type": "execute_result"
    }
   ],
   "source": [
    "df1"
   ]
  },
  {
   "cell_type": "code",
   "execution_count": 5,
   "metadata": {},
   "outputs": [
    {
     "data": {
      "text/plain": [
       "(array([74795.,     0., 33207.]),\n",
       " array([0.        , 0.33333333, 0.66666667, 1.        ]),\n",
       " <a list of 3 Patch objects>)"
      ]
     },
     "execution_count": 5,
     "metadata": {},
     "output_type": "execute_result"
    },
    {
     "data": {
      "image/png": "[encoded data removed]",
      "text/plain": [
       "<Figure size 432x288 with 1 Axes>"
      ]
     },
     "metadata": {
      "needs_background": "light"
     },
     "output_type": "display_data"
    }
   ],
   "source": [
    "#histogram measurement LABEL ACESSO ()\n",
    "import matplotlib.pyplot as plt\n",
    "plt.hist(df1.LABEL_ACESSO, bins=3)"
   ]
  },
  {
   "cell_type": "code",
   "execution_count": 7,
   "metadata": {},
   "outputs": [
    {
     "data": {
      "text/plain": [
       "0    74795\n",
       "1    33207\n",
       "Name: LABEL_ACESSO, dtype: int64"
      ]
     },
     "execution_count": 7,
     "metadata": {},
     "output_type": "execute_result"
    }
   ],
   "source": [
    "df1['LABEL_ACESSO'].value_counts()[:50]"
   ]
  },
  {
   "cell_type": "code",
   "execution_count": 6,
   "metadata": {},
   "outputs": [
    {
     "data": {
      "text/plain": [
       "(array([107029.,      0.,    973.]),\n",
       " array([0.        , 0.33333333, 0.66666667, 1.        ]),\n",
       " <a list of 3 Patch objects>)"
      ]
     },
     "execution_count": 6,
     "metadata": {},
     "output_type": "execute_result"
    },
    {
     "data": {
      "image/png": "[encoded data removed]",
      "text/plain": [
       "<Figure size 432x288 with 1 Axes>"
      ]
     },
     "metadata": {
      "needs_background": "light"
     },
     "output_type": "display_data"
    }
   ],
   "source": [
    "#histogram measurement LABEL SUCESSO)\n",
    "import matplotlib.pyplot as plt\n",
    "plt.hist(df1.LABEL_SUCESSO, bins=3)"
   ]
  },
  {
   "cell_type": "code",
   "execution_count": 8,
   "metadata": {},
   "outputs": [
    {
     "data": {
      "text/plain": [
       "0    107029\n",
       "1       973\n",
       "Name: LABEL_SUCESSO, dtype: int64"
      ]
     },
     "execution_count": 8,
     "metadata": {},
     "output_type": "execute_result"
    }
   ],
   "source": [
    "df1['LABEL_SUCESSO'].value_counts()[:50]"
   ]
  },
  {
   "cell_type": "code",
   "execution_count": 10,
   "metadata": {},
   "outputs": [
    {
     "data": {
      "text/plain": [
       "(array([53187.,     0., 54815.]),\n",
       " array([0.        , 0.33333333, 0.66666667, 1.        ]),\n",
       " <a list of 3 Patch objects>)"
      ]
     },
     "execution_count": 10,
     "metadata": {},
     "output_type": "execute_result"
    },
    {
     "data": {
      "image/png": "[encoded data removed]",
      "text/plain": [
       "<Figure size 432x288 with 1 Axes>"
      ]
     },
     "metadata": {
      "needs_background": "light"
     },
     "output_type": "display_data"
    }
   ],
   "source": [
    "#histogram measurement SEXO)\n",
    "import matplotlib.pyplot as plt\n",
    "plt.hist(df1.sexo1, bins=3)"
   ]
  },
  {
   "cell_type": "code",
   "execution_count": 12,
   "metadata": {},
   "outputs": [
    {
     "data": {
      "text/plain": [
       "(array([32605., 47794., 27603.]),\n",
       " array([ 2.,  6., 10., 14.]),\n",
       " <a list of 3 Patch objects>)"
      ]
     },
     "execution_count": 12,
     "metadata": {},
     "output_type": "execute_result"
    },
    {
     "data": {
      "image/png": "[encoded data removed]",
      "text/plain": [
       "<Figure size 432x288 with 1 Axes>"
      ]
     },
     "metadata": {
      "needs_background": "light"
     },
     "output_type": "display_data"
    }
   ],
   "source": [
    "#histogram measurement idade)\n",
    "import matplotlib.pyplot as plt\n",
    "plt.hist(df1.idade_range_x, bins=3)"
   ]
  },
  {
   "cell_type": "code",
   "execution_count": 14,
   "metadata": {},
   "outputs": [
    {
     "data": {
      "text/plain": [
       "FAIXA-04    14340\n",
       "FAIXA-07    13038\n",
       "FAIXA-08    12622\n",
       "FAIXA-05    12377\n",
       "FAIXA-06    11947\n",
       "FAIXA-09    10187\n",
       "FAIXA-10     9128\n",
       "FAIXA-11     8018\n",
       "FAIXA-12     5722\n",
       "FAIXA-03     5468\n",
       "FAIXA-13     4035\n",
       "FAIXA-14      700\n",
       "FAIXA-02      420\n",
       "Name: idade_range, dtype: int64"
      ]
     },
     "execution_count": 14,
     "metadata": {},
     "output_type": "execute_result"
    }
   ],
   "source": [
    "df1['idade_range'].value_counts()[:50]"
   ]
  },
  {
   "cell_type": "code",
   "execution_count": 15,
   "metadata": {},
   "outputs": [
    {
     "data": {
      "text/plain": [
       "31    3065\n",
       "32    3051\n",
       "33    2984\n",
       "51    2765\n",
       "52    2738\n",
       "45    2696\n",
       "47    2683\n",
       "34    2667\n",
       "39    2605\n",
       "46    2604\n",
       "30    2573\n",
       "48    2564\n",
       "35    2519\n",
       "50    2515\n",
       "49    2490\n",
       "44    2480\n",
       "40    2474\n",
       "36    2444\n",
       "53    2441\n",
       "38    2414\n",
       "37    2395\n",
       "42    2384\n",
       "41    2308\n",
       "43    2301\n",
       "55    2181\n",
       "56    2167\n",
       "54    2163\n",
       "57    2108\n",
       "58    1897\n",
       "61    1879\n",
       "63    1878\n",
       "59    1834\n",
       "64    1809\n",
       "62    1787\n",
       "60    1775\n",
       "67    1761\n",
       "29    1748\n",
       "65    1731\n",
       "66    1676\n",
       "69    1443\n",
       "68    1407\n",
       "28    1266\n",
       "70    1212\n",
       "71    1195\n",
       "72    1148\n",
       "73    1134\n",
       "27    1093\n",
       "74    1033\n",
       "75     940\n",
       "76     835\n",
       "Name: idade, dtype: int64"
      ]
     },
     "execution_count": 15,
     "metadata": {},
     "output_type": "execute_result"
    }
   ],
   "source": [
    "df1['idade'].value_counts()[:50]"
   ]
  },
  {
   "cell_type": "code",
   "execution_count": 16,
   "metadata": {},
   "outputs": [
    {
     "data": {
      "text/plain": [
       "(array([91105., 13902.,  2995.]),\n",
       " array([0.        , 1.33333333, 2.66666667, 4.        ]),\n",
       " <a list of 3 Patch objects>)"
      ]
     },
     "execution_count": 16,
     "metadata": {},
     "output_type": "execute_result"
    },
    {
     "data": {
      "image/png": "[encoded data removed]",
      "text/plain": [
       "<Figure size 432x288 with 1 Axes>"
      ]
     },
     "metadata": {
      "needs_background": "light"
     },
     "output_type": "display_data"
    }
   ],
   "source": [
    "#histogram measurement renda)\n",
    "import matplotlib.pyplot as plt\n",
    "plt.hist(df1.classe, bins=3)"
   ]
  },
  {
   "cell_type": "code",
   "execution_count": 17,
   "metadata": {},
   "outputs": [
    {
     "data": {
      "text/plain": [
       "E    78579\n",
       "C    13902\n",
       "D    12526\n",
       "B     2893\n",
       "A      102\n",
       "Name: classe, dtype: int64"
      ]
     },
     "execution_count": 17,
     "metadata": {},
     "output_type": "execute_result"
    }
   ],
   "source": [
    "df1['classe'].value_counts()[:50]"
   ]
  },
  {
   "cell_type": "code",
   "execution_count": null,
   "metadata": {},
   "outputs": [],
   "source": []
  }
 ],
 "metadata": {
  "kernelspec": {
   "display_name": "Python 3",
   "language": "python",
   "name": "python3"
  },
  "language_info": {
   "codemirror_mode": {
    "name": "ipython",
    "version": 3
   },
   "file_extension": ".py",
   "mimetype": "text/x-python",
   "name": "python",
   "nbconvert_exporter": "python",
   "pygments_lexer": "ipython3",
   "version": "3.7.6"
  }
 },
 "nbformat": 4,
 "nbformat_minor": 4
}
